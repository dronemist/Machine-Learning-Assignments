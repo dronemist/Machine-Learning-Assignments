{
 "cells": [
  {
   "cell_type": "code",
   "execution_count": 1,
   "metadata": {},
   "outputs": [],
   "source": [
    "import numpy as np\n",
    "import pandas\n",
    "import re\n",
    "import math\n",
    "import random\n",
    "import nltk\n",
    "import time\n",
    "from nltk.stem import PorterStemmer \n",
    "from nltk.corpus import stopwords\n",
    "from nltk.tokenize import word_tokenize, TweetTokenizer\n",
    "from collections import Counter\n",
    "from sklearn.naive_bayes import GaussianNB\n",
    "from sklearn.feature_extraction.text import TfidfVectorizer\n",
    "from sklearn.feature_selection import SelectPercentile, f_classif\n",
    "from time import time"
   ]
  },
  {
   "cell_type": "markdown",
   "metadata": {},
   "source": [
    "# Naive Bayes"
   ]
  },
  {
   "cell_type": "markdown",
   "metadata": {},
   "source": [
    "## Global variables"
   ]
  },
  {
   "cell_type": "code",
   "execution_count": 2,
   "metadata": {},
   "outputs": [],
   "source": [
    "polarity_index = 0\n",
    "tweet_index = 5\n",
    "_alpha = 1\n",
    "data = pandas.read_csv('./data/training.csv', encoding='latin-1', header = None).values\n",
    "total_documents = len(data)"
   ]
  },
  {
   "cell_type": "markdown",
   "metadata": {},
   "source": [
    "## Processing into positive and negative tweets"
   ]
  },
  {
   "cell_type": "code",
   "execution_count": 3,
   "metadata": {},
   "outputs": [],
   "source": [
    "all_tweets = data[:, tweet_index]\n",
    "positive_tweets = data[data[:, polarity_index] == 4, tweet_index]\n",
    "negative_tweets = data[data[:, polarity_index] == 0, tweet_index]\n",
    "all_training_polarity = data[:, polarity_index]"
   ]
  },
  {
   "cell_type": "markdown",
   "metadata": {},
   "source": [
    "### Splitting logic"
   ]
  },
  {
   "cell_type": "code",
   "execution_count": 4,
   "metadata": {},
   "outputs": [],
   "source": [
    "split = lambda x: re.split(\" |,|\\.\", x)"
   ]
  },
  {
   "cell_type": "markdown",
   "metadata": {},
   "source": [
    "### Processing into words"
   ]
  },
  {
   "cell_type": "code",
   "execution_count": 5,
   "metadata": {},
   "outputs": [],
   "source": [
    "all_words_ = list(map(split, all_tweets.tolist()))\n",
    "all_words = []\n",
    "for w in all_words_:\n",
    "    all_words += w\n",
    "total_vocabulary = len(set(all_words))    "
   ]
  },
  {
   "cell_type": "code",
   "execution_count": 6,
   "metadata": {},
   "outputs": [],
   "source": [
    "# Y = 4\n",
    "positive_words_ = list(map(split, positive_tweets.tolist()))\n",
    "positive_words = []\n",
    "for w in positive_words_:\n",
    "    positive_words += w\n",
    "total_words_positive_tweets = len(positive_words)"
   ]
  },
  {
   "cell_type": "code",
   "execution_count": 7,
   "metadata": {},
   "outputs": [],
   "source": [
    "# Y = 0\n",
    "negative_words_ = list(map(split, negative_tweets.tolist()))\n",
    "negative_words = []\n",
    "for w in negative_words_:\n",
    "    negative_words += w\n",
    "total_words_negative_tweets = len(negative_words)"
   ]
  },
  {
   "cell_type": "markdown",
   "metadata": {},
   "source": [
    "### Word counter"
   ]
  },
  {
   "cell_type": "code",
   "execution_count": 8,
   "metadata": {},
   "outputs": [],
   "source": [
    "p_tweets_counter = Counter(positive_words)\n",
    "n_tweets_counter = Counter(negative_words)"
   ]
  },
  {
   "cell_type": "markdown",
   "metadata": {},
   "source": [
    "### Predicting if a sentence is positive or negative"
   ]
  },
  {
   "cell_type": "code",
   "execution_count": 9,
   "metadata": {},
   "outputs": [],
   "source": [
    "def predict(sentence):\n",
    "    \"\"\"\n",
    "    Make a prediction on a given entry\n",
    "    \"\"\"\n",
    "    # P(x|y = 0) and P(x|y = 4)  \n",
    "    p_x_y_0 = 0\n",
    "    p_x_y_4 = 0\n",
    "    \n",
    "    # P(y = 0) and P(y = 4)\n",
    "    p_y_0 = math.log(negative_tweets.shape[0] / total_documents)\n",
    "    p_y_4 = math.log(positive_tweets.shape[0] / total_documents)\n",
    "    \n",
    "    for word in sentence:\n",
    "        p_x_y_0 += (math.log(n_tweets_counter[word] + _alpha) - math.log(total_words_negative_tweets + _alpha * total_vocabulary))\n",
    "        p_x_y_4 += (math.log(p_tweets_counter[word] + _alpha) - math.log(total_words_positive_tweets + _alpha * total_vocabulary))\n",
    "        \n",
    "    # P(y = 0|x) and P(y = 4|x)    \n",
    "    p_y_0_x = p_x_y_0 + p_y_0\n",
    "    p_y_4_x = p_x_y_4 + p_y_4\n",
    "    \n",
    "    predicted_polarity = 4\n",
    "    if p_y_0_x > p_y_4_x:\n",
    "        predicted_polarity = 0\n",
    "    return predicted_polarity"
   ]
  },
  {
   "cell_type": "markdown",
   "metadata": {},
   "source": [
    "### Accuracy over training data"
   ]
  },
  {
   "cell_type": "code",
   "execution_count": 10,
   "metadata": {},
   "outputs": [
    {
     "name": "stdout",
     "output_type": "stream",
     "text": [
      "The accuracy from Naive Bayes obtained is 84.93 \n"
     ]
    }
   ],
   "source": [
    "count = 0\n",
    "total_count = 0\n",
    "for (i, tweet) in enumerate(all_words_):\n",
    "\n",
    "    # Current Prediction    \n",
    "    prediction = predict(tweet)\n",
    "    if prediction == all_training_polarity[i]:\n",
    "        count += 1\n",
    "    total_count += 1\n",
    "\n",
    "print(\"The accuracy from Naive Bayes obtained is {} \".format(count / total_count * 100))"
   ]
  },
  {
   "cell_type": "markdown",
   "metadata": {},
   "source": [
    "### Processing test data"
   ]
  },
  {
   "cell_type": "code",
   "execution_count": 11,
   "metadata": {},
   "outputs": [],
   "source": [
    "test_data = pandas.read_csv('./data/testdata.csv', encoding='latin-1', header = None).values\n",
    "all_test_tweets = test_data[test_data[:, polarity_index] != 2, tweet_index]\n",
    "all_polarity = test_data[test_data[:, polarity_index] != 2, polarity_index]"
   ]
  },
  {
   "cell_type": "code",
   "execution_count": 12,
   "metadata": {},
   "outputs": [],
   "source": [
    "all_test_words_ = list(map(split, all_test_tweets.tolist()))"
   ]
  },
  {
   "cell_type": "markdown",
   "metadata": {},
   "source": [
    "### Getting the accuracy"
   ]
  },
  {
   "cell_type": "code",
   "execution_count": 13,
   "metadata": {
    "scrolled": true
   },
   "outputs": [
    {
     "name": "stdout",
     "output_type": "stream",
     "text": [
      "The accuracy from Naive Bayes obtained is 81.05849582172702 \n"
     ]
    }
   ],
   "source": [
    "# Actual prediction\n",
    "def get_accuracy():\n",
    "    \n",
    "    predicted_polarity = np.zeros_like(all_polarity)\n",
    "    count = 0\n",
    "    total_count = 0\n",
    "    for (i, tweet) in enumerate(all_test_words_):\n",
    "\n",
    "        # Current Prediction    \n",
    "        prediction = predict(tweet)\n",
    "        predicted_polarity[i] = prediction\n",
    "        if prediction == all_polarity[i]:\n",
    "            count += 1\n",
    "        total_count += 1\n",
    "\n",
    "    print(\"The accuracy from Naive Bayes obtained is {} \".format(count / total_count * 100))\n",
    "    return predicted_polarity\n",
    "\n",
    "predicted_polarity = get_accuracy()"
   ]
  },
  {
   "cell_type": "code",
   "execution_count": 173,
   "metadata": {},
   "outputs": [
    {
     "name": "stdout",
     "output_type": "stream",
     "text": [
      "The accuracy from Random prediction is 51.81058495821726 \n"
     ]
    }
   ],
   "source": [
    "# Random prediction\n",
    "count = 0\n",
    "total_count = 0\n",
    "for polarity in all_polarity:\n",
    "    # Random choice between 0 and 4\n",
    "    prediction = random.choice([0, 4])\n",
    "    if prediction == polarity:\n",
    "        count += 1\n",
    "    total_count += 1\n",
    "    \n",
    "print(\"The accuracy from Random prediction is {} \".format(count / total_count * 100))"
   ]
  },
  {
   "cell_type": "code",
   "execution_count": 178,
   "metadata": {},
   "outputs": [
    {
     "name": "stdout",
     "output_type": "stream",
     "text": [
      "The accuracy from majority prediction is 50.69637883008357 \n"
     ]
    }
   ],
   "source": [
    "# Majority prediction\n",
    "count = 0\n",
    "total_count = 0\n",
    "\n",
    "if negative_tweets.shape[0] > positive_tweets.shape[0]:\n",
    "    prediction = 0\n",
    "else:\n",
    "    prediction = 4\n",
    "    \n",
    "for polarity in all_polarity:\n",
    "    if prediction == polarity:\n",
    "        count += 1\n",
    "    total_count += 1\n",
    "\n",
    "print(\"The accuracy from majority prediction is {} \".format(count / total_count * 100))"
   ]
  },
  {
   "cell_type": "markdown",
   "metadata": {},
   "source": [
    "### Confusion matrix"
   ]
  },
  {
   "cell_type": "code",
   "execution_count": 16,
   "metadata": {},
   "outputs": [
    {
     "data": {
      "text/html": [
       "<div>\n",
       "<style scoped>\n",
       "    .dataframe tbody tr th:only-of-type {\n",
       "        vertical-align: middle;\n",
       "    }\n",
       "\n",
       "    .dataframe tbody tr th {\n",
       "        vertical-align: top;\n",
       "    }\n",
       "\n",
       "    .dataframe thead th {\n",
       "        text-align: right;\n",
       "    }\n",
       "</style>\n",
       "<table border=\"1\" class=\"dataframe\">\n",
       "  <thead>\n",
       "    <tr style=\"text-align: right;\">\n",
       "      <th></th>\n",
       "      <th>0</th>\n",
       "      <th>4</th>\n",
       "    </tr>\n",
       "  </thead>\n",
       "  <tbody>\n",
       "    <tr>\n",
       "      <th>0</th>\n",
       "      <td>143.0</td>\n",
       "      <td>34.0</td>\n",
       "    </tr>\n",
       "    <tr>\n",
       "      <th>4</th>\n",
       "      <td>34.0</td>\n",
       "      <td>148.0</td>\n",
       "    </tr>\n",
       "  </tbody>\n",
       "</table>\n",
       "</div>"
      ],
      "text/plain": [
       "       0      4\n",
       "0  143.0   34.0\n",
       "4   34.0  148.0"
      ]
     },
     "execution_count": 16,
     "metadata": {},
     "output_type": "execute_result"
    }
   ],
   "source": [
    "confusion_matrix = np.zeros((2, 2))\n",
    "for (i, prediction) in enumerate(predicted_polarity):\n",
    "    confusion_matrix[int(prediction / 4), int(all_polarity[i] / 4)] += 1\n",
    "j = {\n",
    "    \"0\": confusion_matrix[:, 0],\n",
    "    \"4\": confusion_matrix[:, 1]\n",
    "}\n",
    "df = pandas.DataFrame(j)\n",
    "df.index = ['0', '4']\n",
    "df"
   ]
  },
  {
   "cell_type": "markdown",
   "metadata": {},
   "source": [
    "## With Stemming and Tokenization"
   ]
  },
  {
   "cell_type": "code",
   "execution_count": 17,
   "metadata": {},
   "outputs": [],
   "source": [
    "lemma = nltk.wordnet.WordNetLemmatizer()\n",
    "stop_words = set(stopwords.words('english')) "
   ]
  },
  {
   "cell_type": "code",
   "execution_count": 18,
   "metadata": {},
   "outputs": [],
   "source": [
    "ps = PorterStemmer()\n",
    "tknzr = TweetTokenizer(strip_handles=True)\n",
    "def stem_and_tokenize(sentence):\n",
    "    words = tknzr.tokenize(sentence)\n",
    "    processed_words = []\n",
    "    for w in words:\n",
    "        processed_words += [ps.stem(w.lower())]\n",
    "    processed_words = [w for w in processed_words if not w in stop_words]\n",
    "    return processed_words "
   ]
  },
  {
   "cell_type": "code",
   "execution_count": 19,
   "metadata": {},
   "outputs": [
    {
     "name": "stdout",
     "output_type": "stream",
     "text": [
      "CPU times: user 2min 38s, sys: 602 ms, total: 2min 39s\n",
      "Wall time: 2min 39s\n"
     ]
    }
   ],
   "source": [
    "%%time\n",
    "# Y = 4\n",
    "positive_words_ = list(map(stem_and_tokenize, positive_tweets.tolist()))\n",
    "positive_words = []\n",
    "for w in positive_words_:\n",
    "    positive_words += w\n",
    "total_words_positive_tweets = len(positive_words)"
   ]
  },
  {
   "cell_type": "code",
   "execution_count": 20,
   "metadata": {},
   "outputs": [
    {
     "name": "stdout",
     "output_type": "stream",
     "text": [
      "CPU times: user 2min 42s, sys: 327 ms, total: 2min 43s\n",
      "Wall time: 2min 43s\n"
     ]
    }
   ],
   "source": [
    "%%time\n",
    "# Y = 0\n",
    "negative_words_ = list(map(stem_and_tokenize, negative_tweets.tolist()))\n",
    "negative_words = []\n",
    "for w in negative_words_:\n",
    "    negative_words += w\n",
    "total_words_negative_tweets = len(negative_words)"
   ]
  },
  {
   "cell_type": "code",
   "execution_count": 21,
   "metadata": {},
   "outputs": [],
   "source": [
    "# Total number of distinct words\n",
    "total_vocabulary = len(set(positive_words + negative_words))"
   ]
  },
  {
   "cell_type": "code",
   "execution_count": 22,
   "metadata": {},
   "outputs": [],
   "source": [
    "# Making counters for words(bag of words)\n",
    "p_tweets_counter = Counter(positive_words)\n",
    "n_tweets_counter = Counter(negative_words)"
   ]
  },
  {
   "cell_type": "code",
   "execution_count": 23,
   "metadata": {},
   "outputs": [],
   "source": [
    "all_test_words_ = list(map(stem_and_tokenize, all_test_tweets.tolist()))"
   ]
  },
  {
   "cell_type": "code",
   "execution_count": 24,
   "metadata": {},
   "outputs": [
    {
     "name": "stdout",
     "output_type": "stream",
     "text": [
      "The accuracy from Naive Bayes obtained is 81.61559888579387 \n"
     ]
    }
   ],
   "source": [
    "predicted_polarity = get_accuracy()"
   ]
  },
  {
   "cell_type": "markdown",
   "metadata": {},
   "source": [
    "## Part E"
   ]
  },
  {
   "cell_type": "markdown",
   "metadata": {},
   "source": [
    "### Bigrams"
   ]
  },
  {
   "cell_type": "code",
   "execution_count": 25,
   "metadata": {},
   "outputs": [],
   "source": [
    "def generate_bigrams(s):\n",
    "    \"\"\"\n",
    "    Generates bigrams for the string s\n",
    "    \"\"\"\n",
    "    n = 2\n",
    "    # Convert to lowercases\n",
    "    s = s.lower()\n",
    "    \n",
    "    # Replace all none alphanumeric characters with spaces\n",
    "    s = re.sub(r'[^a-zA-Z0-9\\s]', ' ', s)\n",
    "    \n",
    "    # Break sentence in the token, remove empty tokens\n",
    "    tokens = [token for token in s.split(\" \") if token != \"\"]\n",
    "    \n",
    "    tokens = [token for token in tokens if not token in stop_words]\n",
    "    \n",
    "    # Use the zip function to help us generate n-grams\n",
    "    # Concatentate the tokens into ngrams and return\n",
    "    ngrams = zip(*[tokens[i:] for i in range(n)])\n",
    "    return [\" \".join(ngram) for ngram in ngrams]"
   ]
  },
  {
   "cell_type": "code",
   "execution_count": 34,
   "metadata": {},
   "outputs": [],
   "source": [
    "# Y = 4\n",
    "# Generating Bigrams\n",
    "positive_bigrams_ = list(map(generate_bigrams, positive_tweets))\n",
    "positive_bigrams = []\n",
    "for w in positive_bigrams_:\n",
    "    positive_bigrams += w\n",
    "total_positive_bigrams = len(positive_bigrams)"
   ]
  },
  {
   "cell_type": "code",
   "execution_count": 35,
   "metadata": {},
   "outputs": [],
   "source": [
    "# Y = 0\n",
    "negative_bigrams_ = list(map(generate_bigrams, negative_tweets))\n",
    "negative_bigrams = []\n",
    "for w in negative_bigrams_:\n",
    "    negative_bigrams += w\n",
    "total_negative_bigrams = len(negative_bigrams)"
   ]
  },
  {
   "cell_type": "code",
   "execution_count": 36,
   "metadata": {},
   "outputs": [],
   "source": [
    "p_bigrams_counter = Counter(positive_bigrams)\n",
    "n_bigrams_counter = Counter(negative_bigrams)"
   ]
  },
  {
   "cell_type": "code",
   "execution_count": 37,
   "metadata": {},
   "outputs": [],
   "source": [
    "total_bigrams = len(set(negative_bigrams + positive_bigrams))"
   ]
  },
  {
   "cell_type": "code",
   "execution_count": 38,
   "metadata": {},
   "outputs": [],
   "source": [
    "def modified_predict(sentence, bigrams):\n",
    "    \"\"\"\n",
    "    Make a prediction on a given entry\n",
    "    \"\"\"\n",
    "    # P(x|y = 0) and P(x|y = 4)  \n",
    "    p_x_y_0 = 0\n",
    "    p_x_y_4 = 0\n",
    "    \n",
    "    # P(y = 0) and P(y = 4)\n",
    "    p_y_0 = math.log(negative_tweets.shape[0] / total_documents)\n",
    "    p_y_4 = math.log(positive_tweets.shape[0] / total_documents)\n",
    "    \n",
    "    for word in sentence:\n",
    "        p_x_y_0 += (math.log(n_tweets_counter[word] + _alpha) - math.log(total_words_negative_tweets + _alpha * total_vocabulary))\n",
    "        p_x_y_4 += (math.log(p_tweets_counter[word] + _alpha) - math.log(total_words_positive_tweets + _alpha * total_vocabulary))\n",
    "    \n",
    "    for word in bigrams:\n",
    "        p_x_y_0 += (math.log(n_bigrams_counter[word] + _alpha) - math.log(total_negative_bigrams + _alpha * total_bigrams))\n",
    "        p_x_y_4 += (math.log(p_bigrams_counter[word] + _alpha) - math.log(total_positive_bigrams + _alpha * total_bigrams))\n",
    "        \n",
    "\n",
    "    # P(y = 0|x) and P(y = 4|x)    \n",
    "    p_y_0_x = p_x_y_0 + p_y_0\n",
    "    p_y_4_x = p_x_y_4 + p_y_4\n",
    "    \n",
    "    predicted_polarity = 4\n",
    "    if p_y_0_x > p_y_4_x:\n",
    "        predicted_polarity = 0\n",
    "    return predicted_polarity"
   ]
  },
  {
   "cell_type": "code",
   "execution_count": 39,
   "metadata": {},
   "outputs": [],
   "source": [
    "all_test_bigrams_ = list(map(generate_bigrams, all_test_tweets))"
   ]
  },
  {
   "cell_type": "code",
   "execution_count": 40,
   "metadata": {},
   "outputs": [
    {
     "name": "stdout",
     "output_type": "stream",
     "text": [
      "The accuracy from Naive Bayes obtained is 84.67966573816156 \n"
     ]
    }
   ],
   "source": [
    "count = 0\n",
    "total_count = 0\n",
    "for (i, tweet) in enumerate(all_test_words_):\n",
    "\n",
    "    # Current Prediction    \n",
    "    prediction = modified_predict(tweet, all_test_bigrams_[i])\n",
    "    if prediction == all_polarity[i]:\n",
    "        count += 1\n",
    "    total_count += 1\n",
    "\n",
    "print(\"The accuracy from Naive Bayes obtained is {} \".format(count / total_count * 100))"
   ]
  },
  {
   "cell_type": "markdown",
   "metadata": {},
   "source": [
    "### Length of tweet as feature"
   ]
  },
  {
   "cell_type": "code",
   "execution_count": 86,
   "metadata": {},
   "outputs": [],
   "source": [
    "# Y = 4\n",
    "positive_lengths_ = map(lambda x: len(x), positive_tweets)\n",
    "positive_lengths = []\n",
    "for w in positive_lengths_:\n",
    "    positive_lengths += [int(w / 10)]\n",
    "total_positive_lengths = len(positive_lengths)"
   ]
  },
  {
   "cell_type": "code",
   "execution_count": 87,
   "metadata": {},
   "outputs": [],
   "source": [
    "# Y = 0\n",
    "negative_lengths_ = map(lambda x: len(x), negative_tweets)\n",
    "negative_lengths = []\n",
    "for w in negative_lengths_:\n",
    "    negative_lengths += [int(w / 10)]\n",
    "total_negative_lengths = len(negative_lengths)"
   ]
  },
  {
   "cell_type": "code",
   "execution_count": 88,
   "metadata": {},
   "outputs": [],
   "source": [
    "p_lengths_counter = Counter(positive_lengths)\n",
    "n_lengths_counter = Counter(negative_lengths)"
   ]
  },
  {
   "cell_type": "code",
   "execution_count": 89,
   "metadata": {},
   "outputs": [],
   "source": [
    "total_lengths = len(set(negative_lengths + positive_lengths))"
   ]
  },
  {
   "cell_type": "code",
   "execution_count": 90,
   "metadata": {},
   "outputs": [],
   "source": [
    "def modified_predict_Length(sentence, length):\n",
    "    \"\"\"\n",
    "    Make a prediction on a given entry\n",
    "    \"\"\"\n",
    "    # P(x|y = 0) and P(x|y = 4)  \n",
    "    p_x_y_0 = 0\n",
    "    p_x_y_4 = 0\n",
    "    \n",
    "    # P(y = 0) and P(y = 4)\n",
    "    p_y_0 = math.log(negative_tweets.shape[0] / total_documents)\n",
    "    p_y_4 = math.log(positive_tweets.shape[0] / total_documents)\n",
    "    \n",
    "    for word in sentence:\n",
    "        p_x_y_0 += (math.log(n_tweets_counter[word] + _alpha) - math.log(total_words_negative_tweets + _alpha * total_vocabulary))\n",
    "        p_x_y_4 += (math.log(p_tweets_counter[word] + _alpha) - math.log(total_words_positive_tweets + _alpha * total_vocabulary))\n",
    "    \n",
    "    # For length    \n",
    "    p_x_y_0 += (math.log(n_lengths_counter[length] + _alpha) - math.log(total_negative_lengths + _alpha * total_lengths))\n",
    "    p_x_y_4 += (math.log(p_lengths_counter[length] + _alpha) - math.log(total_positive_lengths + _alpha * total_lengths))\n",
    "    \n",
    "    # P(y = 0|x) and P(y = 4|x)    \n",
    "    p_y_0_x = p_x_y_0 + p_y_0\n",
    "    p_y_4_x = p_x_y_4 + p_y_4\n",
    "    \n",
    "    predicted_polarity = 4\n",
    "    if p_y_0_x > p_y_4_x:\n",
    "        predicted_polarity = 0\n",
    "    return predicted_polarity"
   ]
  },
  {
   "cell_type": "code",
   "execution_count": 91,
   "metadata": {},
   "outputs": [],
   "source": [
    "all_test_lengths_ = list(map(lambda x: int(len(x) / 10), all_test_tweets))"
   ]
  },
  {
   "cell_type": "code",
   "execution_count": 92,
   "metadata": {},
   "outputs": [
    {
     "name": "stdout",
     "output_type": "stream",
     "text": [
      "The accuracy from Naive Bayes obtained is 81.05849582172702 \n"
     ]
    }
   ],
   "source": [
    "count = 0\n",
    "total_count = 0\n",
    "for (i, tweet) in enumerate(all_test_words_):\n",
    "\n",
    "    # Current Prediction    \n",
    "    prediction = modified_predict_Length(tweet, all_test_lengths_[i])\n",
    "    if prediction == all_polarity[i]:\n",
    "        count += 1\n",
    "    total_count += 1\n",
    "\n",
    "print(\"The accuracy from Naive Bayes obtained is {} \".format(count / total_count * 100))"
   ]
  },
  {
   "cell_type": "markdown",
   "metadata": {},
   "source": [
    "### Part F"
   ]
  },
  {
   "cell_type": "code",
   "execution_count": 258,
   "metadata": {},
   "outputs": [],
   "source": [
    "net_train = []\n",
    "net_test = []\n",
    "for i in positive_words_:\n",
    "    net_train.append(\" \".join(i))\n",
    "for i in negative_words_:\n",
    "    net_train.append(\" \".join(i))\n",
    "for j in all_test_words_:\n",
    "    net_test.append(\" \".join(j))"
   ]
  },
  {
   "cell_type": "code",
   "execution_count": 259,
   "metadata": {},
   "outputs": [],
   "source": [
    "y_train = 4 * np.ones((len(positive_words_)))\n",
    "y_train = np.append(y_train, np.zeros((len(negative_words_))))"
   ]
  },
  {
   "cell_type": "code",
   "execution_count": 260,
   "metadata": {},
   "outputs": [
    {
     "data": {
      "text/plain": [
       "(1600000, 307169)"
      ]
     },
     "execution_count": 260,
     "metadata": {},
     "output_type": "execute_result"
    }
   ],
   "source": [
    "vectorizer = TfidfVectorizer(stop_words='english')\n",
    "features_train = vectorizer.fit_transform(net_train).astype(np.float32)\n",
    "features_test = vectorizer.transform(net_test).astype(np.float32)\n",
    "features_train.shape"
   ]
  },
  {
   "cell_type": "code",
   "execution_count": 261,
   "metadata": {},
   "outputs": [],
   "source": [
    "def select_features(features_tr, features_te, y, percentile):\n",
    "    \n",
    "    selector = SelectPercentile(f_classif, percentile=percentile)\n",
    "    selector.fit(features_tr, y)\n",
    "    \n",
    "    features_train_selected = selector.transform(features_tr)\n",
    "    features_test_selected = selector.transform(features_te)\n",
    "    return features_train_selected, features_test_selected\n",
    "\n",
    "# Selecting 1 and 0.1 percentiles\n",
    "features_train_selected1, features_test_selected1 = select_features(features_train, features_test, y_train, 1)\n",
    "features_train_selected2, features_test_selected2 = select_features(features_train, features_test, y_train, 0.01)"
   ]
  },
  {
   "cell_type": "code",
   "execution_count": 262,
   "metadata": {},
   "outputs": [],
   "source": [
    "# Training\n",
    "def train(x, y, model):\n",
    "    size = x.shape[0]\n",
    "    t0 = time()\n",
    "    batch_size = 400\n",
    "    for i in range(int(size / batch_size)):\n",
    "        start_index = i * batch_size\n",
    "        end_index = (i + 1) * batch_size\n",
    "        model.partial_fit(x[start_index : end_index].toarray(), y[start_index : end_index].tolist(), np.array([0, 4]))\n",
    "    return model"
   ]
  },
  {
   "cell_type": "markdown",
   "metadata": {},
   "source": [
    "### All Features"
   ]
  },
  {
   "cell_type": "code",
   "execution_count": 246,
   "metadata": {},
   "outputs": [
    {
     "name": "stdout",
     "output_type": "stream",
     "text": [
      "0\n",
      "1\n",
      "2\n",
      "3\n",
      "4\n",
      "5\n",
      "6\n",
      "7\n",
      "8\n",
      "9\n",
      "10\n",
      "11\n",
      "12\n",
      "13\n",
      "14\n",
      "15\n",
      "16\n",
      "17\n",
      "18\n",
      "19\n",
      "20\n",
      "21\n",
      "22\n",
      "23\n",
      "24\n",
      "25\n",
      "26\n",
      "27\n",
      "28\n",
      "29\n"
     ]
    },
    {
     "ename": "KeyboardInterrupt",
     "evalue": "",
     "output_type": "error",
     "traceback": [
      "\u001b[0;31m---------------------------------------------------------------------------\u001b[0m",
      "\u001b[0;31mKeyboardInterrupt\u001b[0m                         Traceback (most recent call last)",
      "\u001b[0;32m<ipython-input-246-3e50406c9044>\u001b[0m in \u001b[0;36m<module>\u001b[0;34m\u001b[0m\n\u001b[1;32m      1\u001b[0m \u001b[0mmodel\u001b[0m \u001b[0;34m=\u001b[0m \u001b[0mGaussianNB\u001b[0m\u001b[0;34m(\u001b[0m\u001b[0;34m)\u001b[0m\u001b[0;34m\u001b[0m\u001b[0;34m\u001b[0m\u001b[0m\n\u001b[1;32m      2\u001b[0m \u001b[0mt0\u001b[0m \u001b[0;34m=\u001b[0m \u001b[0mtime\u001b[0m\u001b[0;34m(\u001b[0m\u001b[0;34m)\u001b[0m\u001b[0;34m\u001b[0m\u001b[0;34m\u001b[0m\u001b[0m\n\u001b[0;32m----> 3\u001b[0;31m \u001b[0mmodel\u001b[0m \u001b[0;34m=\u001b[0m \u001b[0mtrain\u001b[0m\u001b[0;34m(\u001b[0m\u001b[0mfeatures_train\u001b[0m\u001b[0;34m,\u001b[0m \u001b[0my_train\u001b[0m\u001b[0;34m,\u001b[0m \u001b[0mmodel\u001b[0m\u001b[0;34m)\u001b[0m\u001b[0;34m\u001b[0m\u001b[0;34m\u001b[0m\u001b[0m\n\u001b[0m\u001b[1;32m      4\u001b[0m \u001b[0mprint\u001b[0m\u001b[0;34m(\u001b[0m\u001b[0;34mf\"Training time: {round(time()-t0, 3)}s\"\u001b[0m\u001b[0;34m)\u001b[0m\u001b[0;34m\u001b[0m\u001b[0;34m\u001b[0m\u001b[0m\n",
      "\u001b[0;32m<ipython-input-245-25a92a726af9>\u001b[0m in \u001b[0;36mtrain\u001b[0;34m(x, y, model)\u001b[0m\n\u001b[1;32m      8\u001b[0m         \u001b[0mstart_index\u001b[0m \u001b[0;34m=\u001b[0m \u001b[0mi\u001b[0m \u001b[0;34m*\u001b[0m \u001b[0mbatch_size\u001b[0m\u001b[0;34m\u001b[0m\u001b[0;34m\u001b[0m\u001b[0m\n\u001b[1;32m      9\u001b[0m         \u001b[0mend_index\u001b[0m \u001b[0;34m=\u001b[0m \u001b[0;34m(\u001b[0m\u001b[0mi\u001b[0m \u001b[0;34m+\u001b[0m \u001b[0;36m1\u001b[0m\u001b[0;34m)\u001b[0m \u001b[0;34m*\u001b[0m \u001b[0mbatch_size\u001b[0m\u001b[0;34m\u001b[0m\u001b[0;34m\u001b[0m\u001b[0m\n\u001b[0;32m---> 10\u001b[0;31m         \u001b[0mmodel\u001b[0m\u001b[0;34m.\u001b[0m\u001b[0mpartial_fit\u001b[0m\u001b[0;34m(\u001b[0m\u001b[0mx\u001b[0m\u001b[0;34m[\u001b[0m\u001b[0mstart_index\u001b[0m \u001b[0;34m:\u001b[0m \u001b[0mend_index\u001b[0m\u001b[0;34m]\u001b[0m\u001b[0;34m.\u001b[0m\u001b[0mtoarray\u001b[0m\u001b[0;34m(\u001b[0m\u001b[0;34m)\u001b[0m\u001b[0;34m,\u001b[0m \u001b[0my\u001b[0m\u001b[0;34m[\u001b[0m\u001b[0mstart_index\u001b[0m \u001b[0;34m:\u001b[0m \u001b[0mend_index\u001b[0m\u001b[0;34m]\u001b[0m\u001b[0;34m.\u001b[0m\u001b[0mtolist\u001b[0m\u001b[0;34m(\u001b[0m\u001b[0;34m)\u001b[0m\u001b[0;34m,\u001b[0m \u001b[0mnp\u001b[0m\u001b[0;34m.\u001b[0m\u001b[0marray\u001b[0m\u001b[0;34m(\u001b[0m\u001b[0;34m[\u001b[0m\u001b[0;36m0\u001b[0m\u001b[0;34m,\u001b[0m \u001b[0;36m4\u001b[0m\u001b[0;34m]\u001b[0m\u001b[0;34m)\u001b[0m\u001b[0;34m)\u001b[0m\u001b[0;34m\u001b[0m\u001b[0;34m\u001b[0m\u001b[0m\n\u001b[0m\u001b[1;32m     11\u001b[0m     \u001b[0;32mreturn\u001b[0m \u001b[0mmodel\u001b[0m\u001b[0;34m\u001b[0m\u001b[0;34m\u001b[0m\u001b[0m\n",
      "\u001b[0;32m/opt/anaconda3/envs/ML/lib/python3.6/site-packages/sklearn/naive_bayes.py\u001b[0m in \u001b[0;36mpartial_fit\u001b[0;34m(self, X, y, classes, sample_weight)\u001b[0m\n\u001b[1;32m    325\u001b[0m         \"\"\"\n\u001b[1;32m    326\u001b[0m         return self._partial_fit(X, y, classes, _refit=False,\n\u001b[0;32m--> 327\u001b[0;31m                                  sample_weight=sample_weight)\n\u001b[0m\u001b[1;32m    328\u001b[0m \u001b[0;34m\u001b[0m\u001b[0m\n\u001b[1;32m    329\u001b[0m     def _partial_fit(self, X, y, classes=None, _refit=False,\n",
      "\u001b[0;32m/opt/anaconda3/envs/ML/lib/python3.6/site-packages/sklearn/naive_bayes.py\u001b[0m in \u001b[0;36m_partial_fit\u001b[0;34m(self, X, y, classes, _refit, sample_weight)\u001b[0m\n\u001b[1;32m    429\u001b[0m             new_theta, new_sigma = self._update_mean_variance(\n\u001b[1;32m    430\u001b[0m                 \u001b[0mself\u001b[0m\u001b[0;34m.\u001b[0m\u001b[0mclass_count_\u001b[0m\u001b[0;34m[\u001b[0m\u001b[0mi\u001b[0m\u001b[0;34m]\u001b[0m\u001b[0;34m,\u001b[0m \u001b[0mself\u001b[0m\u001b[0;34m.\u001b[0m\u001b[0mtheta_\u001b[0m\u001b[0;34m[\u001b[0m\u001b[0mi\u001b[0m\u001b[0;34m,\u001b[0m \u001b[0;34m:\u001b[0m\u001b[0;34m]\u001b[0m\u001b[0;34m,\u001b[0m \u001b[0mself\u001b[0m\u001b[0;34m.\u001b[0m\u001b[0msigma_\u001b[0m\u001b[0;34m[\u001b[0m\u001b[0mi\u001b[0m\u001b[0;34m,\u001b[0m \u001b[0;34m:\u001b[0m\u001b[0;34m]\u001b[0m\u001b[0;34m,\u001b[0m\u001b[0;34m\u001b[0m\u001b[0;34m\u001b[0m\u001b[0m\n\u001b[0;32m--> 431\u001b[0;31m                 X_i, sw_i)\n\u001b[0m\u001b[1;32m    432\u001b[0m \u001b[0;34m\u001b[0m\u001b[0m\n\u001b[1;32m    433\u001b[0m             \u001b[0mself\u001b[0m\u001b[0;34m.\u001b[0m\u001b[0mtheta_\u001b[0m\u001b[0;34m[\u001b[0m\u001b[0mi\u001b[0m\u001b[0;34m,\u001b[0m \u001b[0;34m:\u001b[0m\u001b[0;34m]\u001b[0m \u001b[0;34m=\u001b[0m \u001b[0mnew_theta\u001b[0m\u001b[0;34m\u001b[0m\u001b[0;34m\u001b[0m\u001b[0m\n",
      "\u001b[0;32m/opt/anaconda3/envs/ML/lib/python3.6/site-packages/sklearn/naive_bayes.py\u001b[0m in \u001b[0;36m_update_mean_variance\u001b[0;34m(n_past, mu, var, X, sample_weight)\u001b[0m\n\u001b[1;32m    262\u001b[0m         \u001b[0;32melse\u001b[0m\u001b[0;34m:\u001b[0m\u001b[0;34m\u001b[0m\u001b[0;34m\u001b[0m\u001b[0m\n\u001b[1;32m    263\u001b[0m             \u001b[0mn_new\u001b[0m \u001b[0;34m=\u001b[0m \u001b[0mX\u001b[0m\u001b[0;34m.\u001b[0m\u001b[0mshape\u001b[0m\u001b[0;34m[\u001b[0m\u001b[0;36m0\u001b[0m\u001b[0;34m]\u001b[0m\u001b[0;34m\u001b[0m\u001b[0;34m\u001b[0m\u001b[0m\n\u001b[0;32m--> 264\u001b[0;31m             \u001b[0mnew_var\u001b[0m \u001b[0;34m=\u001b[0m \u001b[0mnp\u001b[0m\u001b[0;34m.\u001b[0m\u001b[0mvar\u001b[0m\u001b[0;34m(\u001b[0m\u001b[0mX\u001b[0m\u001b[0;34m,\u001b[0m \u001b[0maxis\u001b[0m\u001b[0;34m=\u001b[0m\u001b[0;36m0\u001b[0m\u001b[0;34m)\u001b[0m\u001b[0;34m\u001b[0m\u001b[0;34m\u001b[0m\u001b[0m\n\u001b[0m\u001b[1;32m    265\u001b[0m             \u001b[0mnew_mu\u001b[0m \u001b[0;34m=\u001b[0m \u001b[0mnp\u001b[0m\u001b[0;34m.\u001b[0m\u001b[0mmean\u001b[0m\u001b[0;34m(\u001b[0m\u001b[0mX\u001b[0m\u001b[0;34m,\u001b[0m \u001b[0maxis\u001b[0m\u001b[0;34m=\u001b[0m\u001b[0;36m0\u001b[0m\u001b[0;34m)\u001b[0m\u001b[0;34m\u001b[0m\u001b[0;34m\u001b[0m\u001b[0m\n\u001b[1;32m    266\u001b[0m \u001b[0;34m\u001b[0m\u001b[0m\n",
      "\u001b[0;32m<__array_function__ internals>\u001b[0m in \u001b[0;36mvar\u001b[0;34m(*args, **kwargs)\u001b[0m\n",
      "\u001b[0;32m/opt/anaconda3/envs/ML/lib/python3.6/site-packages/numpy/core/fromnumeric.py\u001b[0m in \u001b[0;36mvar\u001b[0;34m(a, axis, dtype, out, ddof, keepdims)\u001b[0m\n\u001b[1;32m   3582\u001b[0m \u001b[0;34m\u001b[0m\u001b[0m\n\u001b[1;32m   3583\u001b[0m     return _methods._var(a, axis=axis, dtype=dtype, out=out, ddof=ddof,\n\u001b[0;32m-> 3584\u001b[0;31m                          **kwargs)\n\u001b[0m\u001b[1;32m   3585\u001b[0m \u001b[0;34m\u001b[0m\u001b[0m\n\u001b[1;32m   3586\u001b[0m \u001b[0;34m\u001b[0m\u001b[0m\n",
      "\u001b[0;32m/opt/anaconda3/envs/ML/lib/python3.6/site-packages/numpy/core/_methods.py\u001b[0m in \u001b[0;36m_var\u001b[0;34m(a, axis, dtype, out, ddof, keepdims)\u001b[0m\n\u001b[1;32m    197\u001b[0m         \u001b[0mx\u001b[0m \u001b[0;34m=\u001b[0m \u001b[0mum\u001b[0m\u001b[0;34m.\u001b[0m\u001b[0mmultiply\u001b[0m\u001b[0;34m(\u001b[0m\u001b[0mx\u001b[0m\u001b[0;34m,\u001b[0m \u001b[0mum\u001b[0m\u001b[0;34m.\u001b[0m\u001b[0mconjugate\u001b[0m\u001b[0;34m(\u001b[0m\u001b[0mx\u001b[0m\u001b[0;34m)\u001b[0m\u001b[0;34m,\u001b[0m \u001b[0mout\u001b[0m\u001b[0;34m=\u001b[0m\u001b[0mx\u001b[0m\u001b[0;34m)\u001b[0m\u001b[0;34m.\u001b[0m\u001b[0mreal\u001b[0m\u001b[0;34m\u001b[0m\u001b[0;34m\u001b[0m\u001b[0m\n\u001b[1;32m    198\u001b[0m \u001b[0;34m\u001b[0m\u001b[0m\n\u001b[0;32m--> 199\u001b[0;31m     \u001b[0mret\u001b[0m \u001b[0;34m=\u001b[0m \u001b[0mumr_sum\u001b[0m\u001b[0;34m(\u001b[0m\u001b[0mx\u001b[0m\u001b[0;34m,\u001b[0m \u001b[0maxis\u001b[0m\u001b[0;34m,\u001b[0m \u001b[0mdtype\u001b[0m\u001b[0;34m,\u001b[0m \u001b[0mout\u001b[0m\u001b[0;34m,\u001b[0m \u001b[0mkeepdims\u001b[0m\u001b[0;34m)\u001b[0m\u001b[0;34m\u001b[0m\u001b[0;34m\u001b[0m\u001b[0m\n\u001b[0m\u001b[1;32m    200\u001b[0m \u001b[0;34m\u001b[0m\u001b[0m\n\u001b[1;32m    201\u001b[0m     \u001b[0;31m# Compute degrees of freedom and make sure it is not negative.\u001b[0m\u001b[0;34m\u001b[0m\u001b[0;34m\u001b[0m\u001b[0;34m\u001b[0m\u001b[0m\n",
      "\u001b[0;31mKeyboardInterrupt\u001b[0m: "
     ]
    }
   ],
   "source": [
    "model = GaussianNB()\n",
    "t0 = time()\n",
    "model = train(features_train, y_train, model)\n",
    "print(f\"Training time: {round(time()-t0, 3)}s\")"
   ]
  },
  {
   "cell_type": "code",
   "execution_count": null,
   "metadata": {},
   "outputs": [],
   "source": [
    "t0 = time()\n",
    "score_test = model.score(features_test.toarray(), all_polarity.tolist())\n",
    "print(f\"Prediction time (test): {round(time()-t0, 3)}s\")\n",
    "print(\"Test set score:\", score_test)"
   ]
  },
  {
   "cell_type": "markdown",
   "metadata": {},
   "source": [
    "### Some features"
   ]
  },
  {
   "cell_type": "code",
   "execution_count": 265,
   "metadata": {},
   "outputs": [
    {
     "name": "stdout",
     "output_type": "stream",
     "text": [
      "Training time: 1.796s\n"
     ]
    }
   ],
   "source": [
    "modelNew = GaussianNB()\n",
    "t0 = time()\n",
    "modelNew = train(features_train_selected2, y_train, modelNew)\n",
    "print(f\"Training time: {round(time()-t0, 3)}s\")"
   ]
  },
  {
   "cell_type": "code",
   "execution_count": 266,
   "metadata": {},
   "outputs": [
    {
     "name": "stdout",
     "output_type": "stream",
     "text": [
      "Prediction time (test): 0.002s\n",
      "Test set score: 0.5988857938718662\n"
     ]
    }
   ],
   "source": [
    "t0 = time()\n",
    "score_test = modelNew.score(features_test_selected2.toarray(), all_polarity.tolist())\n",
    "print(f\"Prediction time (test): {round(time()-t0, 3)}s\")\n",
    "print(\"Test set score:\", score_test)"
   ]
  },
  {
   "cell_type": "markdown",
   "metadata": {},
   "source": [
    "### Part G"
   ]
  },
  {
   "cell_type": "code",
   "execution_count": 232,
   "metadata": {},
   "outputs": [],
   "source": [
    "import sklearn.metrics as metrics\n",
    "from sklearn.preprocessing import label_binarize\n",
    "import matplotlib.pyplot as plt"
   ]
  },
  {
   "cell_type": "code",
   "execution_count": 233,
   "metadata": {},
   "outputs": [],
   "source": [
    "def modified_predict_ROC(sentence, bigrams):\n",
    "    \"\"\"\n",
    "    Make a prediction on a given entry\n",
    "    \"\"\"\n",
    "    # P(x|y = 0) and P(x|y = 4)  \n",
    "    p_x_y_0 = 0\n",
    "    p_x_y_4 = 0\n",
    "    \n",
    "    # P(y = 0) and P(y = 4)\n",
    "    p_y_0 = math.log(negative_tweets.shape[0] / total_documents)\n",
    "    p_y_4 = math.log(positive_tweets.shape[0] / total_documents)\n",
    "    \n",
    "    for word in sentence:\n",
    "        p_x_y_0 += (math.log(n_tweets_counter[word] + _alpha) - math.log(total_words_negative_tweets + _alpha * total_vocabulary))\n",
    "        p_x_y_4 += (math.log(p_tweets_counter[word] + _alpha) - math.log(total_words_positive_tweets + _alpha * total_vocabulary))\n",
    "\n",
    "    for word in bigrams:\n",
    "        p_x_y_0 += (math.log(n_bigrams_counter[word] + _alpha) - math.log(total_negative_bigrams + _alpha * total_bigrams))\n",
    "        p_x_y_4 += (math.log(p_bigrams_counter[word] + _alpha) - math.log(total_positive_bigrams + _alpha * total_bigrams))\n",
    "\n",
    "    # P(y = 0|x) and P(y = 4|x)    \n",
    "    p_y_0_x = p_x_y_0 + p_y_0 \n",
    "    p_y_4_x = p_x_y_4 + p_y_4\n",
    "    \n",
    "#     predicted_polarity = 4\n",
    "#     if p_y_0_x > threshold:\n",
    "#         predicted_polarity = 0\n",
    "    return -(p_y_0_x - p_y_4_x)"
   ]
  },
  {
   "cell_type": "code",
   "execution_count": 234,
   "metadata": {},
   "outputs": [],
   "source": [
    "score = np.array([])\n",
    "for (i, tweet) in enumerate(all_test_words_):\n",
    "\n",
    "    # Current Prediction    \n",
    "    prediction = modified_predict_ROC(tweet, all_test_bigrams_[i])\n",
    "    score = np.append(score, prediction)"
   ]
  },
  {
   "cell_type": "code",
   "execution_count": 235,
   "metadata": {},
   "outputs": [],
   "source": [
    "fpr, tpr, threshold = metrics.roc_curve(np.array(all_polarity / 4, dtype=int).tolist(), score)\n",
    "roc_auc = metrics.auc(fpr, tpr)"
   ]
  },
  {
   "cell_type": "code",
   "execution_count": 236,
   "metadata": {},
   "outputs": [
    {
     "data": {
      "image/png": "[encoded data removed]",
      "text/plain": [
       "<Figure size 432x288 with 1 Axes>"
      ]
     },
     "metadata": {
      "needs_background": "light"
     },
     "output_type": "display_data"
    }
   ],
   "source": [
    "plt.title('Receiver Operating Characteristic')\n",
    "plt.plot(fpr, tpr, 'b', label = 'AUC = %0.2f' % roc_auc)\n",
    "plt.legend(loc = 'lower right')\n",
    "plt.plot([0, 1], [0, 1],'r--')\n",
    "plt.xlim([0, 1])\n",
    "plt.ylim([0, 1])\n",
    "plt.ylabel('True Positive Rate')\n",
    "plt.xlabel('False Positive Rate')\n",
    "plt.show()"
   ]
  },
  {
   "cell_type": "code",
   "execution_count": null,
   "metadata": {},
   "outputs": [],
   "source": []
  }
 ],
 "metadata": {
  "kernelspec": {
   "display_name": "Python 3",
   "language": "python",
   "name": "python3"
  },
  "language_info": {
   "codemirror_mode": {
    "name": "ipython",
    "version": 3
   },
   "file_extension": ".py",
   "mimetype": "text/x-python",
   "name": "python",
   "nbconvert_exporter": "python",
   "pygments_lexer": "ipython3",
   "version": "3.6.10"
  }
 },
 "nbformat": 4,
 "nbformat_minor": 2
}
