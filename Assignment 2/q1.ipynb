{
 "cells": [
  {
   "cell_type": "code",
   "execution_count": 1,
   "metadata": {},
   "outputs": [],
   "source": [
    "import numpy as np\n",
    "import pandas\n",
    "import re\n",
    "import math\n",
    "import random\n",
    "import nltk\n",
    "import time\n",
    "from nltk.stem import PorterStemmer \n",
    "from nltk.corpus import stopwords\n",
    "from nltk.tokenize import word_tokenize, TweetTokenizer\n",
    "from collections import Counter\n",
    "from sklearn.naive_bayes import GaussianNB\n",
    "from sklearn.feature_extraction.text import TfidfVectorizer\n",
    "from sklearn.feature_selection import SelectPercentile, f_classif\n",
    "from time import time"
   ]
  },
  {
   "cell_type": "markdown",
   "metadata": {},
   "source": [
    "# Naive Bayes"
   ]
  },
  {
   "cell_type": "markdown",
   "metadata": {},
   "source": [
    "## Global variables"
   ]
  },
  {
   "cell_type": "code",
   "execution_count": 158,
   "metadata": {},
   "outputs": [],
   "source": [
    "polarity_index = 0\n",
    "tweet_index = 5\n",
    "_alpha = 1\n",
    "data = pandas.read_csv('./data/training.csv', encoding='latin-1', header = None).values\n",
    "total_documents = len(data)"
   ]
  },
  {
   "cell_type": "markdown",
   "metadata": {},
   "source": [
    "## Processing into positive and negative tweets"
   ]
  },
  {
   "cell_type": "code",
   "execution_count": 159,
   "metadata": {},
   "outputs": [],
   "source": [
    "all_tweets = data[:, tweet_index]\n",
    "positive_tweets = data[data[:, polarity_index] == 4, tweet_index]\n",
    "negative_tweets = data[data[:, polarity_index] == 0, tweet_index]\n",
    "all_training_polarity = data[:, polarity_index]"
   ]
  },
  {
   "cell_type": "markdown",
   "metadata": {},
   "source": [
    "### Splitting logic"
   ]
  },
  {
   "cell_type": "code",
   "execution_count": 4,
   "metadata": {},
   "outputs": [],
   "source": [
    "# split = lambda x: re.sub(\"[^\\w]\", \" \",  x).split()\n",
    "split = lambda x: re.split(\" |,|\\.\", x)\n",
    "# split = lambda x: x.split()"
   ]
  },
  {
   "cell_type": "markdown",
   "metadata": {},
   "source": [
    "### Processing into words"
   ]
  },
  {
   "cell_type": "code",
   "execution_count": 5,
   "metadata": {},
   "outputs": [],
   "source": [
    "all_words_ = list(map(split, all_tweets.tolist()))\n",
    "all_words = []\n",
    "for w in all_words_:\n",
    "    all_words += w\n",
    "total_vocabulary = len(set(all_words))    "
   ]
  },
  {
   "cell_type": "code",
   "execution_count": 6,
   "metadata": {},
   "outputs": [],
   "source": [
    "# Y = 4\n",
    "positive_words_ = list(map(split, positive_tweets.tolist()))\n",
    "positive_words = []\n",
    "for w in positive_words_:\n",
    "    positive_words += w\n",
    "total_words_positive_tweets = len(positive_words)"
   ]
  },
  {
   "cell_type": "code",
   "execution_count": 7,
   "metadata": {},
   "outputs": [],
   "source": [
    "# Y = 0\n",
    "negative_words_ = list(map(split, negative_tweets.tolist()))\n",
    "negative_words = []\n",
    "for w in negative_words_:\n",
    "    negative_words += w\n",
    "total_words_negative_tweets = len(negative_words)"
   ]
  },
  {
   "cell_type": "markdown",
   "metadata": {},
   "source": [
    "### Word counter"
   ]
  },
  {
   "cell_type": "code",
   "execution_count": 8,
   "metadata": {},
   "outputs": [],
   "source": [
    "p_tweets_counter = Counter(positive_words)\n",
    "n_tweets_counter = Counter(negative_words)"
   ]
  },
  {
   "cell_type": "markdown",
   "metadata": {},
   "source": [
    "### Predicting if a sentence is positive or negative"
   ]
  },
  {
   "cell_type": "code",
   "execution_count": 9,
   "metadata": {},
   "outputs": [],
   "source": [
    "def predict(sentence):\n",
    "    \"\"\"\n",
    "    Make a prediction on a given entry\n",
    "    \"\"\"\n",
    "    # P(x|y = 0) and P(x|y = 4)  \n",
    "    p_x_y_0 = 0\n",
    "    p_x_y_4 = 0\n",
    "    \n",
    "    # P(y = 0) and P(y = 4)\n",
    "    p_y_0 = math.log(negative_tweets.shape[0] / total_documents)\n",
    "    p_y_4 = math.log(positive_tweets.shape[0] / total_documents)\n",
    "    \n",
    "    for word in sentence:\n",
    "        p_x_y_0 += (math.log(n_tweets_counter[word] + _alpha) - math.log(total_words_negative_tweets + _alpha * total_vocabulary))\n",
    "        p_x_y_4 += (math.log(p_tweets_counter[word] + _alpha) - math.log(total_words_positive_tweets + _alpha * total_vocabulary))\n",
    "        \n",
    "    # P(y = 0|x) and P(y = 4|x)    \n",
    "    p_y_0_x = p_x_y_0 + p_y_0\n",
    "    p_y_4_x = p_x_y_4 + p_y_4\n",
    "    \n",
    "    predicted_polarity = 4\n",
    "    if p_y_0_x > p_y_4_x:\n",
    "        predicted_polarity = 0\n",
    "    return predicted_polarity"
   ]
  },
  {
   "cell_type": "markdown",
   "metadata": {},
   "source": [
    "### Accuracy over training data"
   ]
  },
  {
   "cell_type": "code",
   "execution_count": 10,
   "metadata": {},
   "outputs": [
    {
     "name": "stdout",
     "output_type": "stream",
     "text": [
      "The accuracy from Naive Bayes obtained is 84.93 \n"
     ]
    }
   ],
   "source": [
    "count = 0\n",
    "total_count = 0\n",
    "for (i, tweet) in enumerate(all_words_):\n",
    "\n",
    "    # Current Prediction    \n",
    "    prediction = predict(tweet)\n",
    "    if prediction == all_training_polarity[i]:\n",
    "        count += 1\n",
    "    total_count += 1\n",
    "\n",
    "print(\"The accuracy from Naive Bayes obtained is {} \".format(count / total_count * 100))"
   ]
  },
  {
   "cell_type": "markdown",
   "metadata": {},
   "source": [
    "### Processing test data"
   ]
  },
  {
   "cell_type": "code",
   "execution_count": 11,
   "metadata": {},
   "outputs": [],
   "source": [
    "test_data = pandas.read_csv('./data/testdata.csv', encoding='latin-1', header = None).values\n",
    "all_test_tweets = test_data[test_data[:, polarity_index] != 2, tweet_index]\n",
    "all_polarity = test_data[test_data[:, polarity_index] != 2, polarity_index]"
   ]
  },
  {
   "cell_type": "code",
   "execution_count": 12,
   "metadata": {},
   "outputs": [],
   "source": [
    "all_test_words_ = list(map(split, all_test_tweets.tolist()))"
   ]
  },
  {
   "cell_type": "markdown",
   "metadata": {},
   "source": [
    "### Getting the accuracy"
   ]
  },
  {
   "cell_type": "code",
   "execution_count": 13,
   "metadata": {
    "scrolled": true
   },
   "outputs": [
    {
     "name": "stdout",
     "output_type": "stream",
     "text": [
      "The accuracy from Naive Bayes obtained is 81.05849582172702 \n"
     ]
    }
   ],
   "source": [
    "# Actual prediction\n",
    "def get_accuracy():\n",
    "    \n",
    "    predicted_polarity = np.zeros_like(all_polarity)\n",
    "    count = 0\n",
    "    total_count = 0\n",
    "    for (i, tweet) in enumerate(all_test_words_):\n",
    "\n",
    "        # Current Prediction    \n",
    "        prediction = predict(tweet)\n",
    "        predicted_polarity[i] = prediction\n",
    "        if prediction == all_polarity[i]:\n",
    "            count += 1\n",
    "        total_count += 1\n",
    "\n",
    "    print(\"The accuracy from Naive Bayes obtained is {} \".format(count / total_count * 100))\n",
    "    return predicted_polarity\n",
    "\n",
    "predicted_polarity = get_accuracy()"
   ]
  },
  {
   "cell_type": "code",
   "execution_count": 14,
   "metadata": {},
   "outputs": [
    {
     "name": "stdout",
     "output_type": "stream",
     "text": [
      "The accuracy from Random prediction is 52.36768802228412 \n"
     ]
    }
   ],
   "source": [
    "# Random prediction\n",
    "count = 0\n",
    "total_count = 0\n",
    "for polarity in all_polarity:\n",
    "    # Random choice between 0 and 4\n",
    "    prediction = random.choice([0, 4])\n",
    "    if prediction == polarity:\n",
    "        count += 1\n",
    "    total_count += 1\n",
    "    \n",
    "print(\"The accuracy from Random prediction is {} \".format(count / total_count * 100))"
   ]
  },
  {
   "cell_type": "code",
   "execution_count": 15,
   "metadata": {},
   "outputs": [
    {
     "name": "stdout",
     "output_type": "stream",
     "text": [
      "The accuracy from majority prediction is 49.30362116991643 \n"
     ]
    }
   ],
   "source": [
    "# Majority prediction\n",
    "count = 0\n",
    "total_count = 0\n",
    "\n",
    "if negative_tweets.shape[0] >= positive_tweets.shape[0]:\n",
    "    prediction = 0\n",
    "else:\n",
    "    prediction = 4\n",
    "    \n",
    "for polarity in all_polarity:\n",
    "    if prediction == polarity:\n",
    "        count += 1\n",
    "    total_count += 1\n",
    "\n",
    "print(\"The accuracy from majority prediction is {} \".format(count / total_count * 100))"
   ]
  },
  {
   "cell_type": "markdown",
   "metadata": {},
   "source": [
    "### Confusion matrix"
   ]
  },
  {
   "cell_type": "code",
   "execution_count": 16,
   "metadata": {},
   "outputs": [
    {
     "data": {
      "text/html": [
       "<div>\n",
       "<style scoped>\n",
       "    .dataframe tbody tr th:only-of-type {\n",
       "        vertical-align: middle;\n",
       "    }\n",
       "\n",
       "    .dataframe tbody tr th {\n",
       "        vertical-align: top;\n",
       "    }\n",
       "\n",
       "    .dataframe thead th {\n",
       "        text-align: right;\n",
       "    }\n",
       "</style>\n",
       "<table border=\"1\" class=\"dataframe\">\n",
       "  <thead>\n",
       "    <tr style=\"text-align: right;\">\n",
       "      <th></th>\n",
       "      <th>0</th>\n",
       "      <th>4</th>\n",
       "    </tr>\n",
       "  </thead>\n",
       "  <tbody>\n",
       "    <tr>\n",
       "      <th>0</th>\n",
       "      <td>143.0</td>\n",
       "      <td>34.0</td>\n",
       "    </tr>\n",
       "    <tr>\n",
       "      <th>4</th>\n",
       "      <td>34.0</td>\n",
       "      <td>148.0</td>\n",
       "    </tr>\n",
       "  </tbody>\n",
       "</table>\n",
       "</div>"
      ],
      "text/plain": [
       "       0      4\n",
       "0  143.0   34.0\n",
       "4   34.0  148.0"
      ]
     },
     "execution_count": 16,
     "metadata": {},
     "output_type": "execute_result"
    }
   ],
   "source": [
    "confusion_matrix = np.zeros((2, 2))\n",
    "for (i, prediction) in enumerate(predicted_polarity):\n",
    "    confusion_matrix[int(prediction / 4), int(all_polarity[i] / 4)] += 1\n",
    "j = {\n",
    "    \"0\": confusion_matrix[:, 0],\n",
    "    \"4\": confusion_matrix[:, 1]\n",
    "}\n",
    "df = pandas.DataFrame(j)\n",
    "df.index = ['0', '4']\n",
    "df"
   ]
  },
  {
   "cell_type": "markdown",
   "metadata": {},
   "source": [
    "## With Stemming and Tokenization"
   ]
  },
  {
   "cell_type": "code",
   "execution_count": 17,
   "metadata": {},
   "outputs": [],
   "source": [
    "lemma = nltk.wordnet.WordNetLemmatizer()\n",
    "stop_words = set(stopwords.words('english')) "
   ]
  },
  {
   "cell_type": "code",
   "execution_count": 18,
   "metadata": {},
   "outputs": [],
   "source": [
    "ps = PorterStemmer()\n",
    "tknzr = TweetTokenizer(strip_handles=True)\n",
    "def stem_and_tokenize(sentence):\n",
    "    words = tknzr.tokenize(sentence)\n",
    "    processed_words = []\n",
    "    for w in words:\n",
    "        processed_words += [ps.stem(w.lower())]\n",
    "    processed_words = [w for w in processed_words if not w in stop_words]\n",
    "    return processed_words "
   ]
  },
  {
   "cell_type": "code",
   "execution_count": 19,
   "metadata": {},
   "outputs": [
    {
     "name": "stdout",
     "output_type": "stream",
     "text": [
      "CPU times: user 2min 39s, sys: 543 ms, total: 2min 39s\n",
      "Wall time: 2min 40s\n"
     ]
    }
   ],
   "source": [
    "%%time\n",
    "# Y = 4\n",
    "positive_words_ = list(map(stem_and_tokenize, positive_tweets.tolist()))\n",
    "positive_words = []\n",
    "for w in positive_words_:\n",
    "    positive_words += w\n",
    "total_words_positive_tweets = len(positive_words)\n",
    "# for (i, w) in enumerate(positive_words):\n",
    "#     if positive_words[i].startswith('@'):\n",
    "#         positive_words[i] = \"\"\n",
    "#     else:    \n",
    "#         positive_words[i] = ps.stem(w.lower())\n",
    "# positive_words = [w for w in positive_words if w != \"\" and not w in stop_words]\n",
    "# total_words_positive_tweets = len(positive_words)"
   ]
  },
  {
   "cell_type": "code",
   "execution_count": 20,
   "metadata": {},
   "outputs": [
    {
     "name": "stdout",
     "output_type": "stream",
     "text": [
      "CPU times: user 2min 39s, sys: 125 ms, total: 2min 39s\n",
      "Wall time: 2min 40s\n"
     ]
    }
   ],
   "source": [
    "%%time\n",
    "# Y = 0\n",
    "negative_words_ = list(map(stem_and_tokenize, negative_tweets.tolist()))\n",
    "negative_words = []\n",
    "for w in negative_words_:\n",
    "    negative_words += w\n",
    "total_words_negative_tweets = len(negative_words)\n",
    "# for (i, w) in enumerate(negative_words):\n",
    "#     if negative_words[i].startswith('@'):\n",
    "#         negative_words[i] = \"\"\n",
    "#     else:    \n",
    "#         negative_words[i] = ps.stem(w.lower())\n",
    "# negative_words = [w for w in negative_words if w != \"\" and not w in stop_words]    \n",
    "# total_words_negative_tweets = len(negative_words)"
   ]
  },
  {
   "cell_type": "code",
   "execution_count": 21,
   "metadata": {},
   "outputs": [],
   "source": [
    "total_vocabulary = len(set(positive_words + negative_words))"
   ]
  },
  {
   "cell_type": "code",
   "execution_count": 22,
   "metadata": {},
   "outputs": [],
   "source": [
    "p_tweets_counter = Counter(positive_words)\n",
    "n_tweets_counter = Counter(negative_words)"
   ]
  },
  {
   "cell_type": "code",
   "execution_count": 25,
   "metadata": {},
   "outputs": [],
   "source": [
    "all_test_words_ = list(map(stem_and_tokenize, all_test_tweets.tolist()))\n",
    "# for (i, w) in enumerate(all_test_words_):\n",
    "#     all_test_words_[i] = list(map(lambda x: ps.stem(x.lower()), all_test_words_[i]))\n",
    "#     all_test_words_[i] = [w for w in all_test_words_[i] if not w.startswith('@')]\n",
    "#     all_test_words_[i] = [w for w in all_test_words_[i] if not w in stop_words] "
   ]
  },
  {
   "cell_type": "code",
   "execution_count": 35,
   "metadata": {},
   "outputs": [
    {
     "name": "stdout",
     "output_type": "stream",
     "text": [
      "The accuracy from Naive Bayes obtained is 81.61559888579387 \n"
     ]
    }
   ],
   "source": [
    "predicted_polarity = get_accuracy()"
   ]
  },
  {
   "cell_type": "markdown",
   "metadata": {},
   "source": [
    "## Part E"
   ]
  },
  {
   "cell_type": "code",
   "execution_count": 61,
   "metadata": {},
   "outputs": [],
   "source": [
    "def generate_bigrams(s):\n",
    "    \"\"\"\n",
    "    Generates bigrams for the string s\n",
    "    \"\"\"\n",
    "    n = 2\n",
    "    # Convert to lowercases\n",
    "    s = s.lower()\n",
    "    \n",
    "    # Replace all none alphanumeric characters with spaces\n",
    "    s = re.sub(r'[^a-zA-Z0-9\\s]', ' ', s)\n",
    "    \n",
    "    # Break sentence in the token, remove empty tokens\n",
    "    tokens = [token for token in s.split(\" \") if token != \"\"]\n",
    "    \n",
    "    tokens = [token for token in tokens if not token in stop_words]\n",
    "    \n",
    "    # Use the zip function to help us generate n-grams\n",
    "    # Concatentate the tokens into ngrams and return\n",
    "    ngrams = zip(*[tokens[i:] for i in range(n)])\n",
    "    return [\" \".join(ngram) for ngram in ngrams]"
   ]
  },
  {
   "cell_type": "code",
   "execution_count": 62,
   "metadata": {},
   "outputs": [],
   "source": [
    "# Y = 4\n",
    "# Generating Bigrams\n",
    "positive_bigrams_ = list(map(lambda x: zip(*[x[i:] for i in range(2)]), positive_words_))\n",
    "positive_bigrams_ = [[\" \".join(ngram) for ngram in ngrams_] for ngrams_ in positive_bigrams_]\n",
    "positive_bigrams = []\n",
    "for w in positive_bigrams_:\n",
    "    positive_bigrams += w\n",
    "total_positive_bigrams = len(positive_bigrams)"
   ]
  },
  {
   "cell_type": "code",
   "execution_count": 63,
   "metadata": {},
   "outputs": [],
   "source": [
    "# Y = 0\n",
    "negative_bigrams_ = list(map(lambda x: zip(*[x[i:] for i in range(2)]), negative_words_))\n",
    "negative_bigrams_ = [[\" \".join(ngram) for ngram in ngrams_] for ngrams_ in negative_bigrams_]\n",
    "negative_bigrams = []\n",
    "for w in negative_bigrams_:\n",
    "    negative_bigrams += w\n",
    "total_negative_bigrams = len(negative_bigrams)"
   ]
  },
  {
   "cell_type": "code",
   "execution_count": 64,
   "metadata": {},
   "outputs": [],
   "source": [
    "p_bigrams_counter = Counter(positive_bigrams)\n",
    "n_bigrams_counter = Counter(negative_bigrams)"
   ]
  },
  {
   "cell_type": "code",
   "execution_count": 65,
   "metadata": {},
   "outputs": [],
   "source": [
    "total_bigrams = len(set(negative_bigrams + positive_bigrams))"
   ]
  },
  {
   "cell_type": "code",
   "execution_count": 66,
   "metadata": {},
   "outputs": [],
   "source": [
    "def modified_predict(sentence, bigrams):\n",
    "    \"\"\"\n",
    "    Make a prediction on a given entry\n",
    "    \"\"\"\n",
    "    # P(x|y = 0) and P(x|y = 4)  \n",
    "    p_x_y_0 = 0\n",
    "    p_x_y_4 = 0\n",
    "    \n",
    "    # P(y = 0) and P(y = 4)\n",
    "    p_y_0 = math.log(negative_tweets.shape[0] / total_documents)\n",
    "    p_y_4 = math.log(positive_tweets.shape[0] / total_documents)\n",
    "    \n",
    "    for word in sentence:\n",
    "        p_x_y_0 += (math.log(n_tweets_counter[word] + _alpha) - math.log(total_words_negative_tweets + _alpha * total_vocabulary))\n",
    "        p_x_y_4 += (math.log(p_tweets_counter[word] + _alpha) - math.log(total_words_positive_tweets + _alpha * total_vocabulary))\n",
    "    \n",
    "    for word in bigrams:\n",
    "        p_x_y_0 += (math.log(n_bigrams_counter[word] + _alpha) - math.log(total_negative_bigrams + _alpha * total_bigrams))\n",
    "        p_x_y_4 += (math.log(p_bigrams_counter[word] + _alpha) - math.log(total_positive_bigrams + _alpha * total_bigrams))\n",
    "        \n",
    "\n",
    "    # P(y = 0|x) and P(y = 4|x)    \n",
    "    p_y_0_x = p_x_y_0 + p_y_0\n",
    "    p_y_4_x = p_x_y_4 + p_y_4\n",
    "    \n",
    "    predicted_polarity = 4\n",
    "    if p_y_0_x > p_y_4_x:\n",
    "        predicted_polarity = 0\n",
    "    return predicted_polarity"
   ]
  },
  {
   "cell_type": "code",
   "execution_count": 67,
   "metadata": {},
   "outputs": [],
   "source": [
    "all_test_bigrams_ = list(map(generate_bigrams, all_test_tweets.tolist()))"
   ]
  },
  {
   "cell_type": "code",
   "execution_count": 68,
   "metadata": {},
   "outputs": [
    {
     "name": "stdout",
     "output_type": "stream",
     "text": [
      "The accuracy from Naive Bayes obtained is 83.008356545961 \n"
     ]
    }
   ],
   "source": [
    "count = 0\n",
    "total_count = 0\n",
    "for (i, tweet) in enumerate(all_test_words_):\n",
    "\n",
    "    # Current Prediction    \n",
    "    prediction = modified_predict(tweet, all_test_bigrams_[i])\n",
    "    if prediction == all_polarity[i]:\n",
    "        count += 1\n",
    "    total_count += 1\n",
    "\n",
    "print(\"The accuracy from Naive Bayes obtained is {} \".format(count / total_count * 100))"
   ]
  },
  {
   "cell_type": "markdown",
   "metadata": {},
   "source": [
    "### Part F"
   ]
  },
  {
   "cell_type": "code",
   "execution_count": 63,
   "metadata": {},
   "outputs": [],
   "source": [
    "vectorizer = TfidfVectorizer(stop_words='english')\n",
    "features_train = vectorizer.fit_transform(all_tweets)\n",
    "features_test = vectorizer.transform(all_test_tweets)"
   ]
  },
  {
   "cell_type": "code",
   "execution_count": 64,
   "metadata": {},
   "outputs": [
    {
     "data": {
      "text/plain": [
       "SelectPercentile(percentile=10, score_func=<function f_classif at 0x1a203586a8>)"
      ]
     },
     "execution_count": 64,
     "metadata": {},
     "output_type": "execute_result"
    }
   ],
   "source": [
    "selector = SelectPercentile(f_classif, percentile=0.01)\n",
    "selector.fit(features_train, all_training_polarity)"
   ]
  },
  {
   "cell_type": "code",
   "execution_count": 65,
   "metadata": {},
   "outputs": [],
   "source": [
    "features_train = selector.transform(features_train).toarray()\n",
    "features_test = selector.transform(features_test).toarray()"
   ]
  },
  {
   "cell_type": "markdown",
   "metadata": {},
   "source": [
    "#### Gaussian NB"
   ]
  },
  {
   "cell_type": "code",
   "execution_count": null,
   "metadata": {},
   "outputs": [],
   "source": [
    "# Training\n",
    "t0 = time()\n",
    "model = GaussianNB()\n",
    "model.partial_fit(features_train, all_training_polarity.tolist(), np.array([0, 4]))\n",
    "print(f\"Training time: {round(time()-t0, 3)}s\")"
   ]
  },
  {
   "cell_type": "code",
   "execution_count": null,
   "metadata": {},
   "outputs": [],
   "source": [
    "t0 = time()\n",
    "score_test = model.score(features_test, all_polarity.tolist())\n",
    "print(f\"Prediction time (test): {round(time()-t0, 3)}s\")\n",
    "print(\"Test set score:\", score_test)"
   ]
  },
  {
   "cell_type": "markdown",
   "metadata": {},
   "source": [
    "### Part G"
   ]
  },
  {
   "cell_type": "code",
   "execution_count": 127,
   "metadata": {},
   "outputs": [],
   "source": [
    "import sklearn.metrics as metrics\n",
    "from sklearn.preprocessing import label_binarize\n",
    "import matplotlib.pyplot as plt"
   ]
  },
  {
   "cell_type": "code",
   "execution_count": 183,
   "metadata": {},
   "outputs": [],
   "source": [
    "def modified_predict_ROC(sentence, bigrams):\n",
    "    \"\"\"\n",
    "    Make a prediction on a given entry\n",
    "    \"\"\"\n",
    "    # P(x|y = 0) and P(x|y = 4)  \n",
    "    p_x_y_0 = 0\n",
    "    p_x_y_4 = 0\n",
    "    \n",
    "    # P(y = 0) and P(y = 4)\n",
    "    p_y_0 = math.log(negative_tweets.shape[0] / total_documents)\n",
    "    p_y_4 = math.log(positive_tweets.shape[0] / total_documents)\n",
    "    \n",
    "    for word in sentence:\n",
    "        p_x_y_0 += (math.log(n_tweets_counter[word] + _alpha) - math.log(total_words_negative_tweets + _alpha * total_vocabulary))\n",
    "        p_x_y_4 += (math.log(p_tweets_counter[word] + _alpha) - math.log(total_words_positive_tweets + _alpha * total_vocabulary))\n",
    "\n",
    "    for word in bigrams:\n",
    "        p_x_y_0 += (math.log(n_bigrams_counter[word] + _alpha) - math.log(total_negative_bigrams + _alpha * total_bigrams))\n",
    "        p_x_y_4 += (math.log(p_bigrams_counter[word] + _alpha) - math.log(total_positive_bigrams + _alpha * total_bigrams))\n",
    "\n",
    "    # P(y = 0|x) and P(y = 4|x)    \n",
    "    p_y_0_x = p_x_y_0 + p_y_0 \n",
    "    p_y_4_x = p_x_y_4 + p_y_4\n",
    "    \n",
    "#     predicted_polarity = 4\n",
    "#     if p_y_0_x > threshold:\n",
    "#         predicted_polarity = 0\n",
    "    return (p_y_0_x - p_y_4_x)"
   ]
  },
  {
   "cell_type": "code",
   "execution_count": 184,
   "metadata": {},
   "outputs": [],
   "source": [
    "score = np.array([])\n",
    "for (i, tweet) in enumerate(all_test_words_):\n",
    "\n",
    "    # Current Prediction    \n",
    "    prediction = modified_predict_ROC(tweet, all_test_bigrams_[i])\n",
    "    score = np.append(score, prediction)"
   ]
  },
  {
   "cell_type": "code",
   "execution_count": 185,
   "metadata": {},
   "outputs": [],
   "source": [
    "true_positive_rate = np.array([])\n",
    "false_positive_rate = np.array([])\n",
    "threshold = np.linspace(np.min(score), np.max(score), 100)\n",
    "for t in threshold:\n",
    "    p_count = 0\n",
    "    f_count = 0\n",
    "    for (i, s) in enumerate(score):\n",
    "        if s > t:\n",
    "            if all_polarity[i] == 0:\n",
    "                p_count += 1\n",
    "            else:\n",
    "                f_count += 1\n",
    "    true_positive_rate = np.append(true_positive_rate, p_count)\n",
    "    false_positive_rate = np.append(false_positive_rate, f_count)\n",
    "# fpr, tpr, threshold = metrics.roc_curve(y_test, preds)\n",
    "# roc_auc = metrics.auc(fpr, tpr)"
   ]
  },
  {
   "cell_type": "code",
   "execution_count": 187,
   "metadata": {},
   "outputs": [
    {
     "data": {
      "image/png": "[encoded data removed]",
      "text/plain": [
       "<Figure size 432x288 with 1 Axes>"
      ]
     },
     "metadata": {
      "needs_background": "light"
     },
     "output_type": "display_data"
    }
   ],
   "source": [
    "plt.title('Receiver Operating Characteristic')\n",
    "plt.plot(false_positive_rate, true_positive_rate, 'b')\n",
    "plt.ylabel('True Positive Rate')\n",
    "plt.xlabel('False Positive Rate')\n",
    "plt.show()\n",
    "# plt.title('Receiver Operating Characteristic')\n",
    "# plt.plot(fpr, tpr, 'b', label = 'AUC = %0.2f' % roc_auc)\n",
    "# plt.legend(loc = 'lower right')\n",
    "# plt.plot([0, 1], [0, 1],'r--')\n",
    "# plt.xlim([0, 1])\n",
    "# plt.ylim([0, 1])\n",
    "# plt.ylabel('True Positive Rate')\n",
    "# plt.xlabel('False Positive Rate')\n",
    "# plt.show()"
   ]
  },
  {
   "cell_type": "markdown",
   "metadata": {},
   "source": [
    "# SVM"
   ]
  },
  {
   "cell_type": "markdown",
   "metadata": {},
   "source": [
    "## Binary Classification"
   ]
  },
  {
   "cell_type": "code",
   "execution_count": 2,
   "metadata": {},
   "outputs": [],
   "source": [
    "from cvxopt import matrix\n",
    "from cvxopt import solvers"
   ]
  },
  {
   "cell_type": "markdown",
   "metadata": {},
   "source": [
    "### Loading the SVM data "
   ]
  },
  {
   "cell_type": "code",
   "execution_count": 3,
   "metadata": {},
   "outputs": [],
   "source": [
    "d = 9\n",
    "svm_train_data = pandas.read_csv('./data/fashion_mnist/train.csv').values\n",
    "svm_test_data = pandas.read_csv('./data/fashion_mnist/test.csv').values\n",
    "svm_validation_data = pandas.read_csv('./data/fashion_mnist/val.csv').values"
   ]
  },
  {
   "cell_type": "markdown",
   "metadata": {},
   "source": [
    "### Linear"
   ]
  },
  {
   "cell_type": "code",
   "execution_count": 4,
   "metadata": {},
   "outputs": [
    {
     "data": {
      "text/plain": [
       "(4500, 785)"
      ]
     },
     "execution_count": 4,
     "metadata": {},
     "output_type": "execute_result"
    }
   ],
   "source": [
    "# Required data\n",
    "svm_train_data_r = svm_train_data[(svm_train_data[:, -1] == (d + 1) % 10) + (svm_train_data[:, -1] == d), :]\n",
    "svm_test_data_r = svm_test_data[(svm_test_data[:, -1] == (d + 1) % 10) + (svm_test_data[:, -1] == d), :]\n",
    "svm_validation_data_r = svm_validation_data[(svm_validation_data[:, -1] == (d + 1) % 10) + (svm_validation_data[:, -1] == d), :]\n",
    "svm_train_data_r.shape"
   ]
  },
  {
   "cell_type": "code",
   "execution_count": 5,
   "metadata": {},
   "outputs": [
    {
     "name": "stdout",
     "output_type": "stream",
     "text": [
      "(4500, 785)\n",
      "(999, 785)\n",
      "(4500, 785)\n"
     ]
    }
   ],
   "source": [
    "# Reading y's\n",
    "y_train = svm_train_data_r[:, -1]\n",
    "y_train[y_train == d] = -1\n",
    "y_train[y_train == (d + 1) % 10] = 1\n",
    "print(svm_train_data_r.shape)\n",
    "\n",
    "y_test = svm_test_data_r[:, -1]\n",
    "y_test[y_test == d] = -1\n",
    "y_test[y_test == (d + 1) % 10] = 1\n",
    "print(svm_test_data_r.shape)\n",
    "\n",
    "y_val = svm_validation_data_r[:, -1]\n",
    "y_val[y_val == d] = -1\n",
    "y_val[y_val == (d + 1) % 10] = 1\n",
    "print(svm_train_data_r.shape)"
   ]
  },
  {
   "cell_type": "code",
   "execution_count": 6,
   "metadata": {},
   "outputs": [],
   "source": [
    "# Reading x's and normalising\n",
    "x_train = (np.delete(svm_train_data_r, -1, axis = 1) / 255).T\n",
    "x_test = (np.delete(svm_test_data_r, -1, axis = 1) / 255).T\n",
    "x_val = (np.delete(svm_validation_data_r, -1, axis = 1) / 255).T\n",
    "\n",
    "# Noise\n",
    "C = 1.0"
   ]
  },
  {
   "cell_type": "code",
   "execution_count": 7,
   "metadata": {},
   "outputs": [],
   "source": [
    "# Calculating P matrix\n",
    "y_diag = y_train.reshape((-1, 1))\n",
    "p_matrix = np.matmul(x_train.T, x_train)\n",
    "p_matrix = y_diag * p_matrix\n",
    "y_diag = y_diag.T\n",
    "p_matrix = p_matrix * y_diag\n",
    "p_matrix = matrix(p_matrix)"
   ]
  },
  {
   "cell_type": "code",
   "execution_count": 8,
   "metadata": {},
   "outputs": [],
   "source": [
    "# Calculating q matrix\n",
    "q_matrix = -matrix(np.ones_like(y_train))"
   ]
  },
  {
   "cell_type": "code",
   "execution_count": 9,
   "metadata": {},
   "outputs": [],
   "source": [
    "# Calculating A and b matrices\n",
    "A_matrix = matrix(y_diag) \n",
    "b_matrix = matrix([0.0])"
   ]
  },
  {
   "cell_type": "code",
   "execution_count": 10,
   "metadata": {},
   "outputs": [],
   "source": [
    "# Calculating G and h matrices\n",
    "G_1 = np.identity(np.shape(y_train)[0])\n",
    "h_1 = C * np.ones_like(y_train)\n",
    "G_2 = -G_1\n",
    "h_2 = 0 * h_1\n",
    "\n",
    "G_matrix = matrix(np.vstack((G_1, G_2)))\n",
    "h_matrix = matrix(np.append(h_1, h_2))"
   ]
  },
  {
   "cell_type": "code",
   "execution_count": 11,
   "metadata": {},
   "outputs": [
    {
     "name": "stdout",
     "output_type": "stream",
     "text": [
      "CPU times: user 2 µs, sys: 1 µs, total: 3 µs\n",
      "Wall time: 3.81 µs\n",
      "     pcost       dcost       gap    pres   dres\n",
      " 0: -1.3874e+02 -7.3498e+03  4e+04  2e+00  1e-12\n",
      " 1: -7.8159e+01 -3.6059e+03  7e+03  3e-01  1e-12\n",
      " 2: -2.3151e+01 -8.1591e+02  1e+03  6e-02  6e-13\n",
      " 3: -8.2817e+00 -3.2692e+02  5e+02  2e-02  3e-13\n",
      " 4: -1.9531e+00 -5.9043e+01  9e+01  3e-03  7e-14\n",
      " 5: -6.9181e-01 -1.3465e+01  2e+01  7e-04  3e-14\n",
      " 6: -3.3850e-01 -2.8374e+00  3e+00  1e-04  2e-14\n",
      " 7: -3.3182e-01 -1.0866e+00  8e-01  2e-16  2e-14\n",
      " 8: -4.8517e-01 -8.0175e-01  3e-01  2e-16  2e-14\n",
      " 9: -5.4774e-01 -6.8892e-01  1e-01  2e-16  2e-14\n",
      "10: -5.8820e-01 -6.2264e-01  3e-02  2e-16  2e-14\n",
      "11: -6.0131e-01 -6.0673e-01  5e-03  2e-16  2e-14\n",
      "12: -6.0378e-01 -6.0391e-01  1e-04  2e-16  2e-14\n",
      "13: -6.0384e-01 -6.0384e-01  2e-06  2e-16  2e-14\n",
      "14: -6.0384e-01 -6.0384e-01  2e-08  2e-16  2e-14\n",
      "Optimal solution found.\n"
     ]
    }
   ],
   "source": [
    "%time\n",
    "# Solving the problem\n",
    "sol = solvers.qp(p_matrix, q_matrix, G_matrix, h_matrix, A_matrix, b_matrix)"
   ]
  },
  {
   "cell_type": "code",
   "execution_count": 12,
   "metadata": {},
   "outputs": [
    {
     "data": {
      "text/plain": [
       "(57,)"
      ]
     },
     "execution_count": 12,
     "metadata": {},
     "output_type": "execute_result"
    }
   ],
   "source": [
    "# Calculating alpha\n",
    "alpha = np.array(sol['x'])\n",
    "np.where(alpha > 1e-5)[0].shape"
   ]
  },
  {
   "cell_type": "code",
   "execution_count": 13,
   "metadata": {},
   "outputs": [],
   "source": [
    "# Calculating W\n",
    "y_diag = (y_train.reshape((-1, 1))).T\n",
    "w = (x_train * y_diag) @ alpha"
   ]
  },
  {
   "cell_type": "code",
   "execution_count": 14,
   "metadata": {},
   "outputs": [
    {
     "data": {
      "text/plain": [
       "(784, 2250)"
      ]
     },
     "execution_count": 14,
     "metadata": {},
     "output_type": "execute_result"
    }
   ],
   "source": [
    "# Calculating b\n",
    "x_temp_0 = svm_train_data[(svm_train_data[:, -1] == d), :]\n",
    "x_temp_0 = (np.delete(x_temp_0, -1, axis = 1) / 255).T\n",
    "x_temp_1 = svm_train_data[(svm_train_data[:, -1] == (d + 1) % 10), :]\n",
    "x_temp_1 = (np.delete(x_temp_1, -1, axis = 1) / 255).T\n",
    "x_temp_0.shape"
   ]
  },
  {
   "cell_type": "code",
   "execution_count": 15,
   "metadata": {},
   "outputs": [],
   "source": [
    "maximum = np.max(w.T @ x_temp_0)\n",
    "minimum = np.min(w.T @ x_temp_1)"
   ]
  },
  {
   "cell_type": "code",
   "execution_count": 16,
   "metadata": {},
   "outputs": [],
   "source": [
    "b = - (maximum + minimum) / 2.0"
   ]
  },
  {
   "cell_type": "code",
   "execution_count": 17,
   "metadata": {},
   "outputs": [
    {
     "name": "stdout",
     "output_type": "stream",
     "text": [
      "Accuracy is 100.0\n"
     ]
    }
   ],
   "source": [
    "# Predicting on test data\n",
    "pred_test = (w.T @ x_test) + b\n",
    "pred_test[pred_test >= 0] = 1\n",
    "pred_test[pred_test < 0] = -1\n",
    "count = 0\n",
    "total = pred_test.shape[1]\n",
    "for (i, p) in enumerate(pred_test[0, :]):\n",
    "    if p == y_test[i]:\n",
    "        count += 1\n",
    "print(\"Accuracy is {}\".format(count * 100 / total))"
   ]
  },
  {
   "cell_type": "code",
   "execution_count": 18,
   "metadata": {},
   "outputs": [
    {
     "name": "stdout",
     "output_type": "stream",
     "text": [
      "Accuracy is 99.8\n"
     ]
    }
   ],
   "source": [
    "# Predicting on validation data\n",
    "pred_val = (w.T @ x_val) + b\n",
    "pred_val[pred_val >= 0] = 1\n",
    "pred_val[pred_val < 0] = -1\n",
    "count = 0\n",
    "total = pred_val.shape[1]\n",
    "for (i, p) in enumerate(pred_val[0, :]):\n",
    "    if p == y_val[i]:\n",
    "        count += 1\n",
    "print(\"Accuracy is {}\".format(count * 100 / total))"
   ]
  },
  {
   "cell_type": "markdown",
   "metadata": {},
   "source": [
    "### Gaussian"
   ]
  },
  {
   "cell_type": "code",
   "execution_count": 41,
   "metadata": {},
   "outputs": [],
   "source": [
    "from scipy.spatial.distance import pdist, squareform"
   ]
  },
  {
   "cell_type": "code",
   "execution_count": 42,
   "metadata": {},
   "outputs": [],
   "source": [
    "# Calculating Gaussian\n",
    "gamma = 0.05\n",
    "m = y_train.shape[0]\n",
    "pairwise_dists = squareform(pdist(x_train.T, 'euclidean'))\n",
    "k_matrix = np.exp(- gamma * pairwise_dists ** 2)\n",
    "# x_train[:,i].shape\n",
    "# for i in range(m):\n",
    "#     for j in range(m):\n",
    "#         k_matrix[i, j] = math.exp(-gamma * np.linalg.norm(x_train[:, i] - x_train[:, j]) ** 2)"
   ]
  },
  {
   "cell_type": "code",
   "execution_count": 43,
   "metadata": {},
   "outputs": [],
   "source": [
    "# Changing P_matrix\n",
    "y_diag = y_train.reshape((-1, 1))\n",
    "p_matrix = k_matrix\n",
    "p_matrix = y_diag * p_matrix\n",
    "y_diag = y_diag.T\n",
    "p_matrix = p_matrix * y_diag\n",
    "p_matrix = matrix(p_matrix)"
   ]
  },
  {
   "cell_type": "code",
   "execution_count": 44,
   "metadata": {},
   "outputs": [
    {
     "name": "stdout",
     "output_type": "stream",
     "text": [
      "     pcost       dcost       gap    pres   dres\n",
      " 0: -1.3464e+02 -6.8388e+03  3e+04  2e+00  2e-15\n",
      " 1: -7.6690e+01 -3.2910e+03  5e+03  2e-01  1e-15\n",
      " 2: -5.4390e+01 -6.8811e+02  8e+02  3e-02  4e-15\n",
      " 3: -8.6653e+01 -2.4599e+02  2e+02  5e-03  2e-15\n",
      " 4: -1.0255e+02 -1.5246e+02  5e+01  1e-03  2e-15\n",
      " 5: -1.0963e+02 -1.2739e+02  2e+01  3e-04  1e-15\n",
      " 6: -1.1318e+02 -1.1820e+02  5e+00  4e-05  1e-15\n",
      " 7: -1.1445e+02 -1.1556e+02  1e+00  4e-06  1e-15\n",
      " 8: -1.1479e+02 -1.1496e+02  2e-01  5e-07  1e-15\n",
      " 9: -1.1485e+02 -1.1486e+02  5e-03  9e-09  2e-15\n",
      "10: -1.1485e+02 -1.1485e+02  1e-04  2e-10  2e-15\n",
      "Optimal solution found.\n"
     ]
    }
   ],
   "source": [
    "# Solving the problem\n",
    "sol = solvers.qp(p_matrix, q_matrix, G_matrix, h_matrix, A_matrix, b_matrix)"
   ]
  },
  {
   "cell_type": "code",
   "execution_count": 47,
   "metadata": {},
   "outputs": [],
   "source": [
    "# Calculating alpha\n",
    "alpha = np.array(sol['x'])"
   ]
  },
  {
   "cell_type": "code",
   "execution_count": 48,
   "metadata": {},
   "outputs": [
    {
     "data": {
      "text/plain": [
       "(4500, 1)"
      ]
     },
     "execution_count": 48,
     "metadata": {},
     "output_type": "execute_result"
    }
   ],
   "source": [
    "# Calculating B\n",
    "B_temp"
   ]
  },
  {
   "cell_type": "code",
   "execution_count": null,
   "metadata": {},
   "outputs": [],
   "source": []
  },
  {
   "cell_type": "code",
   "execution_count": null,
   "metadata": {},
   "outputs": [],
   "source": []
  },
  {
   "cell_type": "code",
   "execution_count": null,
   "metadata": {},
   "outputs": [],
   "source": []
  }
 ],
 "metadata": {
  "kernelspec": {
   "display_name": "Python 3",
   "language": "python",
   "name": "python3"
  },
  "language_info": {
   "codemirror_mode": {
    "name": "ipython",
    "version": 3
   },
   "file_extension": ".py",
   "mimetype": "text/x-python",
   "name": "python",
   "nbconvert_exporter": "python",
   "pygments_lexer": "ipython3",
   "version": "3.6.10"
  }
 },
 "nbformat": 4,
 "nbformat_minor": 2
}
